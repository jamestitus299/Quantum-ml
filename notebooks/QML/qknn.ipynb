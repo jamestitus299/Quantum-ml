{
 "cells": [
  {
   "cell_type": "code",
   "execution_count": 1,
   "id": "41be6fd4-7714-40dc-a79d-225a4fd4c29c",
   "metadata": {
    "tags": []
   },
   "outputs": [
    {
     "name": "stdout",
     "output_type": "stream",
     "text": [
      "Traceback \u001b[1;36m(most recent call last)\u001b[0m:\n",
      "\u001b[1;36m  Cell \u001b[1;32mIn[1], line 1\u001b[1;36m\n",
      "\u001b[1;33m    from qiskit_quantum_knn.qknn import QKNeighborsClassifier\u001b[1;36m\n",
      "\u001b[1;31mModuleNotFoundError\u001b[0m\u001b[1;31m:\u001b[0m No module named 'qiskit_quantum_knn'\n",
      "\n",
      "Use %tb to get the full traceback.\n"
     ]
    },
    {
     "data": {
      "text/html": [
       "\n",
       "<style>\n",
       ".button {\n",
       "  border: none;\n",
       "  color: white;\n",
       "  padding: 4px 8px;\n",
       "  text-align: center;\n",
       "  text-decoration: none;\n",
       "  display: inline-block;\n",
       "  font-size: 12px;\n",
       "  margin: 4px 2px;\n",
       "  transition-duration: 0.2s;\n",
       "  cursor: pointer;\n",
       "}\n",
       ".iqx-button {\n",
       "  background-color: #0f62fe; \n",
       "  color: white; \n",
       "}\n",
       ".iqx-button:hover {\n",
       "  background-color: #0043ce;\n",
       "  color: white;\n",
       "}\n",
       "</style>\n",
       "<a href=\"https://stackoverflow.com/search?q=ModuleNotFoundError: No module named 'qiskit_quantum_knn'\" target='_blank'><button class='button iqx-button'>Search for solution online</button></a>\n"
      ],
      "text/plain": [
       "<IPython.core.display.HTML object>"
      ]
     },
     "metadata": {},
     "output_type": "display_data"
    }
   ],
   "source": [
    "from qiskit_quantum_knn.qknn import QKNeighborsClassifier\n",
    "from qiskit_quantum_knn.encoding import analog\n",
    "from qiskit import aqua\n",
    "from sklearn import datasets\n",
    "import qiskit as qk\n",
    "\n",
    "# initialising the quantum instance\n",
    "backend = qk.BasicAer.get_backend('qasm_simulator')\n",
    "instance = aqua.QuantumInstance(backend, shots=10000)\n",
    "\n",
    "# initialising the qknn model\n",
    "qknn = QKNeighborsClassifier(\n",
    "   n_neighbors=3,\n",
    "   quantum_instance=instance\n",
    ")\n",
    "\n",
    "n_variables = 2        # should be positive power of 2\n",
    "n_train_points = 4     # can be any positive integer\n",
    "n_test_points = 2      # can be any positive integer\n",
    "\n",
    "# use iris dataset\n",
    "iris = datasets.load_iris()\n",
    "labels = iris.target\n",
    "data_raw = iris.data\n",
    "\n",
    "# encode data\n",
    "encoded_data = analog.encode(data_raw[:, :n_variables])\n",
    "\n",
    "# now pick these indices from the data\n",
    "train_data = encoded_data[:n_train_points]\n",
    "train_labels = labels[:n_train_points]\n",
    "\n",
    "test_data = encoded_data[n_train_points:(n_train_points+n_test_points), :n_variables]\n",
    "test_labels = labels[n_train_points:(n_train_points+n_test_points)]\n",
    "\n",
    "qknn.fit(train_data, train_labels)\n",
    "qknn_prediction = qknn.predict(test_data)\n",
    "\n",
    "print(qknn_prediction)\n",
    "print(test_labels)"
   ]
  },
  {
   "cell_type": "code",
   "execution_count": null,
   "id": "796aed5c-5ac8-4c74-928b-437742c978b2",
   "metadata": {},
   "outputs": [],
   "source": []
  }
 ],
 "metadata": {
  "kernelspec": {
   "display_name": "Python 3 (ipykernel)",
   "language": "python",
   "name": "python3"
  },
  "language_info": {
   "codemirror_mode": {
    "name": "ipython",
    "version": 3
   },
   "file_extension": ".py",
   "mimetype": "text/x-python",
   "name": "python",
   "nbconvert_exporter": "python",
   "pygments_lexer": "ipython3",
   "version": "3.10.8"
  },
  "widgets": {
   "application/vnd.jupyter.widget-state+json": {
    "state": {},
    "version_major": 2,
    "version_minor": 0
   }
  }
 },
 "nbformat": 4,
 "nbformat_minor": 5
}
