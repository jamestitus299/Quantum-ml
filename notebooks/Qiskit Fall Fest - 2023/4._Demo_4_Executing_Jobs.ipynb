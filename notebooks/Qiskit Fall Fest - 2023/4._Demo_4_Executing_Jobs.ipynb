{
 "cells": [
  {
   "cell_type": "code",
   "execution_count": 8,
   "metadata": {
    "tags": []
   },
   "outputs": [],
   "source": [
    "# Importing standard Qiskit libraries\n",
    "from qiskit import QuantumCircuit, transpile\n",
    "from qiskit.tools.jupyter import *\n",
    "from qiskit.visualization import *\n",
    "from ibm_quantum_widgets import *\n",
    "from qiskit_aer import AerSimulator\n",
    "\n",
    "# qiskit-ibmq-provider has been deprecated.\n",
    "# Please see the Migration Guides in https://ibm.biz/provider_migration_guide for more detail.\n",
    "from qiskit_ibm_runtime import QiskitRuntimeService, Sampler, Estimator, Session, Options\n",
    "\n",
    "# Loading your IBM Quantum account(s)\n",
    "service = QiskitRuntimeService(channel=\"ibm_quantum\")\n",
    "\n",
    "# Invoke a primitive inside a session. For more details see https://qiskit.org/documentation/partners/qiskit_ibm_runtime/tutorials.html\n",
    "# with Session(backend=service.backend(\"ibmq_qasm_simulator\")):\n",
    "#     result = Sampler().run(circuits).result()"
   ]
  },
  {
   "cell_type": "code",
   "execution_count": 9,
   "metadata": {
    "tags": []
   },
   "outputs": [
    {
     "name": "stderr",
     "output_type": "stream",
     "text": [
      "ibmqfactory.load_account:WARNING:2023-04-30 00:55:36,251: Credentials are already in use. The existing account in the session will be replaced.\n"
     ]
    }
   ],
   "source": [
    "# Loading your IBM Quantum account(s)\n",
    "from qiskit import QuantumCircuit, transpile, Aer, IBMQ\n",
    "provider = IBMQ.load_account()"
   ]
  },
  {
   "cell_type": "markdown",
   "metadata": {},
   "source": [
    "# Submitting Jobs to Simulator"
   ]
  },
  {
   "cell_type": "markdown",
   "metadata": {},
   "source": [
    "Write a Quantum Program to create the following Bell State $$\\frac{1}{\\sqrt{2}}\\left(\\vert00\\rangle + \\vert11\\rangle\\right)$$ "
   ]
  },
  {
   "cell_type": "code",
   "execution_count": 10,
   "metadata": {
    "tags": []
   },
   "outputs": [
    {
     "data": {
      "image/png": "[encoded data removed]",
      "text/plain": [
       "<Figure size 580.387x284.278 with 1 Axes>"
      ]
     },
     "execution_count": 10,
     "metadata": {},
     "output_type": "execute_result"
    }
   ],
   "source": [
    "mycircuit = QuantumCircuit(2)\n",
    "mycircuit.h(0)\n",
    "mycircuit.cx(0,1)\n",
    "mycircuit.measure_all()\n",
    "mycircuit.draw('mpl')"
   ]
  },
  {
   "cell_type": "code",
   "execution_count": 11,
   "metadata": {
    "tags": []
   },
   "outputs": [
    {
     "data": {
      "image/png": "[encoded data removed]",
      "text/plain": [
       "<Figure size 700x500 with 1 Axes>"
      ]
     },
     "execution_count": 11,
     "metadata": {},
     "output_type": "execute_result"
    }
   ],
   "source": [
    "from qiskit import Aer, execute\n",
    "simulator = Aer.get_backend('qasm_simulator')\n",
    "result = execute(mycircuit, simulator, shots=10000).result()\n",
    "counts = result.get_counts(mycircuit)\n",
    "plot_histogram(counts)"
   ]
  },
  {
   "cell_type": "markdown",
   "metadata": {},
   "source": [
    "# Submitting Jobs to Real Device"
   ]
  },
  {
   "cell_type": "code",
   "execution_count": 12,
   "metadata": {
    "tags": []
   },
   "outputs": [
    {
     "data": {
      "text/plain": [
       "[<IBMQSimulator('ibmq_qasm_simulator') from IBMQ(hub='ibm-q', group='open', project='main')>,\n",
       " <IBMQBackend('ibmq_lima') from IBMQ(hub='ibm-q', group='open', project='main')>,\n",
       " <IBMQBackend('ibmq_belem') from IBMQ(hub='ibm-q', group='open', project='main')>,\n",
       " <IBMQBackend('ibmq_quito') from IBMQ(hub='ibm-q', group='open', project='main')>,\n",
       " <IBMQSimulator('simulator_statevector') from IBMQ(hub='ibm-q', group='open', project='main')>,\n",
       " <IBMQSimulator('simulator_mps') from IBMQ(hub='ibm-q', group='open', project='main')>,\n",
       " <IBMQSimulator('simulator_extended_stabilizer') from IBMQ(hub='ibm-q', group='open', project='main')>,\n",
       " <IBMQSimulator('simulator_stabilizer') from IBMQ(hub='ibm-q', group='open', project='main')>,\n",
       " <IBMQBackend('ibmq_jakarta') from IBMQ(hub='ibm-q', group='open', project='main')>,\n",
       " <IBMQBackend('ibmq_manila') from IBMQ(hub='ibm-q', group='open', project='main')>,\n",
       " <IBMQBackend('ibm_lagos') from IBMQ(hub='ibm-q', group='open', project='main')>,\n",
       " <IBMQBackend('ibm_nairobi') from IBMQ(hub='ibm-q', group='open', project='main')>,\n",
       " <IBMQBackend('ibm_perth') from IBMQ(hub='ibm-q', group='open', project='main')>,\n",
       " <IBMQBackend('ibm_oslo') from IBMQ(hub='ibm-q', group='open', project='main')>]"
      ]
     },
     "execution_count": 12,
     "metadata": {},
     "output_type": "execute_result"
    }
   ],
   "source": [
    "provider = IBMQ.get_provider('ibm-q')\n",
    "provider.backends()"
   ]
  },
  {
   "cell_type": "code",
   "execution_count": 14,
   "metadata": {
    "tags": []
   },
   "outputs": [
    {
     "data": {
      "application/vnd.jupyter.widget-view+json": {
       "model_id": "a7084a35d22644a6b1c92e2c0e13fb8f",
       "version_major": 2,
       "version_minor": 0
      },
      "text/plain": [
       "VBox(children=(HTML(value=\"<h1 style='color:#ffffff;background-color:#000000;padding-top: 1%;padding-bottom: 1…"
      ]
     },
     "metadata": {},
     "output_type": "display_data"
    },
    {
     "data": {
      "text/plain": [
       "<IBMQBackend('ibmq_belem') from IBMQ(hub='ibm-q', group='open', project='main')>"
      ]
     },
     "execution_count": 14,
     "metadata": {},
     "output_type": "execute_result"
    }
   ],
   "source": [
    "from qiskit.providers.ibmq import least_busy\n",
    "backend = least_busy(provider.backends(filters=lambda x: x.configuration().n_qubits >= 2 and \n",
    "                                        not x.configuration().simulator and x.status().operational==True))\n",
    "backend"
   ]
  },
  {
   "cell_type": "code",
   "execution_count": 19,
   "metadata": {
    "tags": []
   },
   "outputs": [],
   "source": [
    "from qiskit.tools.monitor import job_monitor"
   ]
  },
  {
   "cell_type": "code",
   "execution_count": null,
   "metadata": {},
   "outputs": [],
   "source": [
    "backend = provider.get_backend('ibmq_belem')"
   ]
  },
  {
   "cell_type": "code",
   "execution_count": 16,
   "metadata": {
    "tags": []
   },
   "outputs": [
    {
     "data": {
      "text/plain": [
       "<qiskit.circuit.instructionset.InstructionSet at 0x7f4f43b6cf70>"
      ]
     },
     "execution_count": 16,
     "metadata": {},
     "output_type": "execute_result"
    }
   ],
   "source": [
    "mycircuit = QuantumCircuit(2,2)\n",
    "mycircuit.h(0)\n",
    "mycircuit.cx(0,1)\n",
    "mycircuit.measure([0,0],[1,1])"
   ]
  },
  {
   "cell_type": "code",
   "execution_count": 20,
   "metadata": {
    "tags": []
   },
   "outputs": [
    {
     "name": "stdout",
     "output_type": "stream",
     "text": [
      "ch6rs2p6klhd7q955sbg\n",
      "Job Status: job has successfully run\n"
     ]
    }
   ],
   "source": [
    "mycircuit_trans = transpile(mycircuit, backend)\n",
    "job = backend.run(mycircuit_trans, shots=8192)\n",
    "print(job.job_id())\n",
    "job_monitor(job)\n",
    "    \n",
    "output = job.result().get_counts()"
   ]
  },
  {
   "cell_type": "code",
   "execution_count": null,
   "metadata": {},
   "outputs": [],
   "source": [
    "import qiskit\n",
    "qiskit.__qiskit_version__"
   ]
  }
 ],
 "metadata": {
  "kernelspec": {
   "display_name": "Python 3",
   "language": "python",
   "name": "python3"
  },
  "language_info": {
   "codemirror_mode": {
    "name": "ipython",
    "version": 3
   },
   "file_extension": ".py",
   "mimetype": "text/x-python",
   "name": "python",
   "nbconvert_exporter": "python",
   "pygments_lexer": "ipython3",
   "version": "3.7.4"
  },
  "widgets": {
   "application/vnd.jupyter.widget-state+json": {
    "state": {
     "01e91bc0155c443297f66efec6ee0375": {
      "model_module": "@jupyter-widgets/controls",
      "model_module_version": "2.0.0",
      "model_name": "HTMLMathModel",
      "state": {
       "layout": "IPY_MODEL_a541fb5db3b14fb5bc8604b7c9406d94",
       "style": "IPY_MODEL_df8b787d143c45b0ab0b84c8064fcd3d",
       "value": "<table><style>\ntable {\n    border-collapse: collapse;\n    width: auto;\n}\n\nth, td {\n    text-align: left;\n    padding: 8px;\n}\n\ntr:nth-child(even) {background-color: #f6f6f6;}\n</style><tr><th></th><th></th></tr><tr><td>measure_esp_enabled</td><td>False</td></tr><tr><td>pulse_num_channels</td><td>9</td></tr><tr><td>qubit_channel_mapping</td><td>[['m0', 'd0', 'u1', 'u0'], ['u0', 'm1', 'u1', 'u3', 'u2', 'u5', 'd1', 'u4'], ['d2', 'u4', 'm2', 'u2'], ['d3', 'u7', 'u3', 'm3', 'u6', 'u5'], ['m4', 'u7', 'u6', 'd4']]</td></tr><tr><td>dynamic_reprate_enabled</td><td>True</td></tr><tr><td>parallel_compilation</td><td>False</td></tr><tr><td>channels</td><td>{'acquire0': {'operates': {'qubits': [0]}, 'purpose': 'acquire', 'type': 'acquire'}, 'acquire1': {'operates': {'qubits': [1]}, 'purpose': 'acquire', 'type': 'acquire'}, 'acquire2': {'operates': {'qubits': [2]}, 'purpose': 'acquire', 'type': 'acquire'}, 'acquire3': {'operates': {'qubits': [3]}, 'purpose': 'acquire', 'type': 'acquire'}, 'acquire4': {'operates': {'qubits': [4]}, 'purpose': 'acquire', 'type': 'acquire'}, 'd0': {'operates': {'qubits': [0]}, 'purpose': 'drive', 'type': 'drive'}, 'd1': {'operates': {'qubits': [1]}, 'purpose': 'drive', 'type': 'drive'}, 'd2': {'operates': {'qubits': [2]}, 'purpose': 'drive', 'type': 'drive'}, 'd3': {'operates': {'qubits': [3]}, 'purpose': 'drive', 'type': 'drive'}, 'd4': {'operates': {'qubits': [4]}, 'purpose': 'drive', 'type': 'drive'}, 'm0': {'operates': {'qubits': [0]}, 'purpose': 'measure', 'type': 'measure'}, 'm1': {'operates': {'qubits': [1]}, 'purpose': 'measure', 'type': 'measure'}, 'm2': {'operates': {'qubits': [2]}, 'purpose': 'measure', 'type': 'measure'}, 'm3': {'operates': {'qubits': [3]}, 'purpose': 'measure', 'type': 'measure'}, 'm4': {'operates': {'qubits': [4]}, 'purpose': 'measure', 'type': 'measure'}, 'u0': {'operates': {'qubits': [0, 1]}, 'purpose': 'cross-resonance', 'type': 'control'}, 'u1': {'operates': {'qubits': [1, 0]}, 'purpose': 'cross-resonance', 'type': 'control'}, 'u2': {'operates': {'qubits': [1, 2]}, 'purpose': 'cross-resonance', 'type': 'control'}, 'u3': {'operates': {'qubits': [1, 3]}, 'purpose': 'cross-resonance', 'type': 'control'}, 'u4': {'operates': {'qubits': [2, 1]}, 'purpose': 'cross-resonance', 'type': 'control'}, 'u5': {'operates': {'qubits': [3, 1]}, 'purpose': 'cross-resonance', 'type': 'control'}, 'u6': {'operates': {'qubits': [3, 4]}, 'purpose': 'cross-resonance', 'type': 'control'}, 'u7': {'operates': {'qubits': [4, 3]}, 'purpose': 'cross-resonance', 'type': 'control'}}</td></tr><tr><td>sample_name</td><td>family: Falcon, revision: 4, segment: T</td></tr><tr><td>meas_lo_range</td><td>[[6.925143125000001, 7.925143125000001], [6.721646720000001, 7.721646720000001], [6.971842939, 7.971842939], [6.865317232000001, 7.865317232000001], [6.919067567000001, 7.919067567000001]]</td></tr><tr><td>rep_times</td><td>[1000.0]</td></tr><tr><td>description</td><td>5 qubit device Lima</td></tr><tr><td>uchannels_enabled</td><td>True</td></tr><tr><td>qubit_lo_range</td><td>[[4.5297516444341275, 5.5297516444341275], [4.627737564776507, 5.627737564776507], [4.747342993388823, 5.747342993388824], [4.802559801225973, 5.802559801225973], [4.592086412182198, 5.592086412182198]]</td></tr><tr><td>rep_delay_range</td><td>[0.0, 500.0]</td></tr><tr><td>allow_q_object</td><td>True</td></tr><tr><td>pulse_num_qubits</td><td>3</td></tr><tr><td>multi_meas_enabled</td><td>True</td></tr><tr><td>conditional_latency</td><td>[]</td></tr><tr><td>memory</td><td>True</td></tr><tr><td>conditional</td><td>False</td></tr><tr><td>n_registers</td><td>1</td></tr><tr><td>dtm</td><td>0.2222222222222222</td></tr><tr><td>u_channel_lo</td><td>[[{'q': 1, 'scale': (1+0j)}], [{'q': 0, 'scale': (1+0j)}], [{'q': 2, 'scale': (1+0j)}], [{'q': 3, 'scale': (1+0j)}], [{'q': 1, 'scale': (1+0j)}], [{'q': 1, 'scale': (1+0j)}], [{'q': 4, 'scale': (1+0j)}], [{'q': 3, 'scale': (1+0j)}]]</td></tr><tr><td>credits_required</td><td>True</td></tr><tr><td>coupling_map</td><td>[[0, 1], [1, 0], [1, 2], [1, 3], [2, 1], [3, 1], [3, 4], [4, 3]]</td></tr><tr><td>meas_kernels</td><td>['hw_boxcar']</td></tr><tr><td>acquisition_latency</td><td>[]</td></tr><tr><td>hamiltonian</td><td>$$\\begin{align} \\mathcal{H}/\\hbar = & \\sum_{i=0}^{4}\\left(\\frac{\\omega_{q,i}}{2}(\\mathbb{I}-\\sigma_i^{z})+\\frac{\\Delta_{i}}{2}(O_i^2-O_i)+\\Omega_{d,i}D_i(t)\\sigma_i^{X}\\right) \\\\ & + J_{0,1}(\\sigma_{0}^{+}\\sigma_{1}^{-}+\\sigma_{0}^{-}\\sigma_{1}^{+}) + J_{1,2}(\\sigma_{1}^{+}\\sigma_{2}^{-}+\\sigma_{1}^{-}\\sigma_{2}^{+}) + J_{1,3}(\\sigma_{1}^{+}\\sigma_{3}^{-}+\\sigma_{1}^{-}\\sigma_{3}^{+}) + J_{3,4}(\\sigma_{3}^{+}\\sigma_{4}^{-}+\\sigma_{3}^{-}\\sigma_{4}^{+}) \\\\ & + \\Omega_{d,0}(U_{0}^{(0,1)}(t))\\sigma_{0}^{X} + \\Omega_{d,1}(U_{1}^{(1,0)}(t)+U_{3}^{(1,3)}(t)+U_{2}^{(1,2)}(t))\\sigma_{1}^{X} \\\\ & + \\Omega_{d,2}(U_{4}^{(2,1)}(t))\\sigma_{2}^{X} + \\Omega_{d,3}(U_{6}^{(3,4)}(t)+U_{5}^{(3,1)}(t))\\sigma_{3}^{X} \\\\ & + \\Omega_{d,4}(U_{7}^{(4,3)}(t))\\sigma_{4}^{X} \\\\ \\end{align}$$</td></tr><tr><td>clops</td><td>2673</td></tr><tr><td>online_date</td><td>2021-01-08 05:00:00+00:00</td></tr><tr><td>allow_object_storage</td><td>True</td></tr><tr><td>parametric_pulses</td><td>['gaussian', 'gaussian_square', 'gaussian_square_drag', 'drag', 'constant']</td></tr><tr><td>supported_features</td><td>['qobj']</td></tr><tr><td>discriminators</td><td>['quadratic_discriminator', 'hw_centroid', 'linear_discriminator']</td></tr><tr><td>supported_instructions</td><td>['cx', 'id', 'delay', 'measure', 'reset', 'rz', 'sx', 'x']</td></tr><tr><td>live_data</td><td>False</td></tr><tr><td>local</td><td>False</td></tr><tr><td>open_pulse</td><td>False</td></tr><tr><td>dt</td><td>0.2222222222222222</td></tr><tr><td>timing_constraints</td><td>{'acquire_alignment': 16, 'granularity': 16, 'min_length': 64, 'pulse_alignment': 1}</td></tr><tr><td>meas_levels</td><td>[1, 2]</td></tr><tr><td>meas_map</td><td>[[0, 1, 2, 3, 4]]</td></tr><tr><td>backend_name</td><td>ibmq_lima</td></tr><tr><td>default_rep_delay</td><td>250.0</td></tr><tr><td>input_allowed</td><td>['job', 'runtime']</td></tr><tr><td>n_uchannels</td><td>8</td></tr><tr><td>url</td><td>None</td></tr><tr><td>processor_type</td><td>{'family': 'Falcon', 'revision': 4, 'segment': 'T'}</td></tr><tr><td>simulator</td><td>False</td></tr></table>"
      }
     },
     "022d088d64d14a66b123919544a69fb9": {
      "model_module": "@jupyter-widgets/controls",
      "model_module_version": "2.0.0",
      "model_name": "HTMLModel",
      "state": {
       "layout": "IPY_MODEL_e060589b15cc425d93667c24996c1c5f",
       "style": "IPY_MODEL_9970c20aae9d429a83b6dc0fcbbc6589",
       "value": "job has successfully run"
      }
     },
     "03cee527c01a49ae8e150c1a8c461017": {
      "model_module": "@jupyter-widgets/base",
      "model_module_version": "2.0.0",
      "model_name": "LayoutModel",
      "state": {
       "width": "145px"
      }
     },
     "03d29e064ee3494eb8fe52c37f5b4948": {
      "model_module": "@jupyter-widgets/controls",
      "model_module_version": "2.0.0",
      "model_name": "GridBoxModel",
      "state": {
       "children": [
        "IPY_MODEL_8e77803912e641a796ab982eaed44b7f",
        "IPY_MODEL_a442246130a24b08b6f17418087239fd",
        "IPY_MODEL_6a7d1e3bc89e481e8c889eac3020a3cd",
        "IPY_MODEL_683f476ed0ac48e7b7032ba387a101cb"
       ],
       "layout": "IPY_MODEL_503c8124429c482aa29cc0366815c3bd"
      }
     },
     "0a633688d2584bd49fdc8ca7053d7358": {
      "model_module": "@jupyter-widgets/base",
      "model_module_version": "2.0.0",
      "model_name": "LayoutModel",
      "state": {
       "align_items": "center",
       "display": "flex-inline"
      }
     },
     "0b1fa07de2394c489bceed879d0ce55d": {
      "model_module": "@jupyter-widgets/controls",
      "model_module_version": "2.0.0",
      "model_name": "HTMLStyleModel",
      "state": {
       "description_width": "",
       "font_size": null,
       "text_color": null
      }
     },
     "0b3cb200f4ac49ad82feb9bd5f08eb68": {
      "model_module": "@jupyter-widgets/base",
      "model_module_version": "2.0.0",
      "model_name": "LayoutModel",
      "state": {
       "grid_area": "middle"
      }
     },
     "0dca79dfa79e42f2a504ecdddb125ed9": {
      "model_module": "@jupyter-widgets/base",
      "model_module_version": "2.0.0",
      "model_name": "LayoutModel",
      "state": {
       "grid_template_areas": "\n                                       \". . . . right \"\n                                        ",
       "grid_template_columns": "20% 20% 20% 20% 20%",
       "width": "100%"
      }
     },
     "0ec5dd3d49f94c5280bf225e065b8251": {
      "model_module": "@jupyter-widgets/controls",
      "model_module_version": "2.0.0",
      "model_name": "HTMLStyleModel",
      "state": {
       "description_width": "",
       "font_size": null,
       "text_color": null
      }
     },
     "1283e73448f04efeb45076fa83f146a1": {
      "model_module": "@jupyter-widgets/controls",
      "model_module_version": "2.0.0",
      "model_name": "HBoxModel",
      "state": {
       "children": [
        "IPY_MODEL_2c4aab35ca7c4dcaafa8ca2663762ebd",
        "IPY_MODEL_b0febf72cb4544d0a9dc26550819a3fa",
        "IPY_MODEL_eba4f02dd2524a339f7e65d242b5ef9c",
        "IPY_MODEL_1eff8c1438974deeaae559492d62cc73",
        "IPY_MODEL_c7354569c358475ca08f4ae5ab8612aa",
        "IPY_MODEL_fa303fd0b48a4937b84a4359197e5954"
       ],
       "layout": "IPY_MODEL_c77e42b395ab4aab9d262ccdd6bba79b"
      }
     },
     "1661d4e2322d4a78bdd14365bb6fc8e2": {
      "model_module": "@jupyter-widgets/controls",
      "model_module_version": "2.0.0",
      "model_name": "HTMLStyleModel",
      "state": {
       "description_width": "",
       "font_size": null,
       "text_color": null
      }
     },
     "19a78f78b34a4aea80e2ef071a747fd9": {
      "model_module": "@jupyter-widgets/controls",
      "model_module_version": "2.0.0",
      "model_name": "HTMLStyleModel",
      "state": {
       "description_width": "",
       "font_size": null,
       "text_color": null
      }
     },
     "1aaf044f1a4349f08e01bff18036ac88": {
      "model_module": "@jupyter-widgets/base",
      "model_module_version": "2.0.0",
      "model_name": "LayoutModel",
      "state": {}
     },
     "1c4a9c59345344c1a49963b681081992": {
      "model_module": "@jupyter-widgets/controls",
      "model_module_version": "2.0.0",
      "model_name": "HTMLMathModel",
      "state": {
       "layout": "IPY_MODEL_e8c6a96178ed44e19d30643015551e90",
       "style": "IPY_MODEL_f331ba9d182e40be95b982986c2d82d9",
       "value": "<table><style>\ntable {\n    border-collapse: collapse;\n    width: auto;\n}\n\nth, td {\n    text-align: left;\n    padding: 8px;\n}\n\ntr:nth-child(even) {background-color: #f6f6f6;}\n</style><tr><th></th><th></th></tr><tr><td>measure_esp_enabled</td><td>False</td></tr><tr><td>pulse_num_channels</td><td>9</td></tr><tr><td>qubit_channel_mapping</td><td>[['d0', 'm0', 'u0', 'u1'], ['u0', 'd1', 'u3', 'u1', 'm1', 'u2', 'u4', 'u5'], ['m2', 'u2', 'd2', 'u4'], ['m3', 'd3', 'u3', 'u7', 'u6', 'u5'], ['u6', 'm4', 'u7', 'd4']]</td></tr><tr><td>dynamic_reprate_enabled</td><td>True</td></tr><tr><td>parallel_compilation</td><td>False</td></tr><tr><td>channels</td><td>{'acquire0': {'operates': {'qubits': [0]}, 'purpose': 'acquire', 'type': 'acquire'}, 'acquire1': {'operates': {'qubits': [1]}, 'purpose': 'acquire', 'type': 'acquire'}, 'acquire2': {'operates': {'qubits': [2]}, 'purpose': 'acquire', 'type': 'acquire'}, 'acquire3': {'operates': {'qubits': [3]}, 'purpose': 'acquire', 'type': 'acquire'}, 'acquire4': {'operates': {'qubits': [4]}, 'purpose': 'acquire', 'type': 'acquire'}, 'd0': {'operates': {'qubits': [0]}, 'purpose': 'drive', 'type': 'drive'}, 'd1': {'operates': {'qubits': [1]}, 'purpose': 'drive', 'type': 'drive'}, 'd2': {'operates': {'qubits': [2]}, 'purpose': 'drive', 'type': 'drive'}, 'd3': {'operates': {'qubits': [3]}, 'purpose': 'drive', 'type': 'drive'}, 'd4': {'operates': {'qubits': [4]}, 'purpose': 'drive', 'type': 'drive'}, 'm0': {'operates': {'qubits': [0]}, 'purpose': 'measure', 'type': 'measure'}, 'm1': {'operates': {'qubits': [1]}, 'purpose': 'measure', 'type': 'measure'}, 'm2': {'operates': {'qubits': [2]}, 'purpose': 'measure', 'type': 'measure'}, 'm3': {'operates': {'qubits': [3]}, 'purpose': 'measure', 'type': 'measure'}, 'm4': {'operates': {'qubits': [4]}, 'purpose': 'measure', 'type': 'measure'}, 'u0': {'operates': {'qubits': [0, 1]}, 'purpose': 'cross-resonance', 'type': 'control'}, 'u1': {'operates': {'qubits': [1, 0]}, 'purpose': 'cross-resonance', 'type': 'control'}, 'u2': {'operates': {'qubits': [1, 2]}, 'purpose': 'cross-resonance', 'type': 'control'}, 'u3': {'operates': {'qubits': [1, 3]}, 'purpose': 'cross-resonance', 'type': 'control'}, 'u4': {'operates': {'qubits': [2, 1]}, 'purpose': 'cross-resonance', 'type': 'control'}, 'u5': {'operates': {'qubits': [3, 1]}, 'purpose': 'cross-resonance', 'type': 'control'}, 'u6': {'operates': {'qubits': [3, 4]}, 'purpose': 'cross-resonance', 'type': 'control'}, 'u7': {'operates': {'qubits': [4, 3]}, 'purpose': 'cross-resonance', 'type': 'control'}}</td></tr><tr><td>sample_name</td><td>family: Falcon, revision: 4, segment: T</td></tr><tr><td>meas_lo_range</td><td>[[6.801574705, 7.801574705], [6.8934333720000005, 7.8934333720000005], [6.860104974, 7.860104974], [6.8033823270000005, 7.8033823270000005], [6.926223338000001, 7.926223338000001]]</td></tr><tr><td>rep_times</td><td>[1000.0]</td></tr><tr><td>description</td><td>5 qubit device Belem</td></tr><tr><td>uchannels_enabled</td><td>True</td></tr><tr><td>qubit_lo_range</td><td>[[4.5902185166811345, 5.5902185166811345], [4.7455240308010085, 5.7455240308010085], [4.8615031608975094, 5.86150316089751], [4.670322111025597, 5.670322111025597], [4.758462883834184, 5.758462883834184]]</td></tr><tr><td>rep_delay_range</td><td>[0.0, 500.0]</td></tr><tr><td>allow_q_object</td><td>True</td></tr><tr><td>pulse_num_qubits</td><td>3</td></tr><tr><td>multi_meas_enabled</td><td>True</td></tr><tr><td>conditional_latency</td><td>[]</td></tr><tr><td>memory</td><td>True</td></tr><tr><td>conditional</td><td>False</td></tr><tr><td>n_registers</td><td>1</td></tr><tr><td>dtm</td><td>0.2222222222222222</td></tr><tr><td>u_channel_lo</td><td>[[{'q': 1, 'scale': (1+0j)}], [{'q': 0, 'scale': (1+0j)}], [{'q': 2, 'scale': (1+0j)}], [{'q': 3, 'scale': (1+0j)}], [{'q': 1, 'scale': (1+0j)}], [{'q': 1, 'scale': (1+0j)}], [{'q': 4, 'scale': (1+0j)}], [{'q': 3, 'scale': (1+0j)}]]</td></tr><tr><td>credits_required</td><td>True</td></tr><tr><td>coupling_map</td><td>[[0, 1], [1, 0], [1, 2], [1, 3], [2, 1], [3, 1], [3, 4], [4, 3]]</td></tr><tr><td>meas_kernels</td><td>['hw_boxcar']</td></tr><tr><td>acquisition_latency</td><td>[]</td></tr><tr><td>hamiltonian</td><td>$$\\begin{align} \\mathcal{H}/\\hbar = & \\sum_{i=0}^{4}\\left(\\frac{\\omega_{q,i}}{2}(\\mathbb{I}-\\sigma_i^{z})+\\frac{\\Delta_{i}}{2}(O_i^2-O_i)+\\Omega_{d,i}D_i(t)\\sigma_i^{X}\\right) \\\\ & + J_{0,1}(\\sigma_{0}^{+}\\sigma_{1}^{-}+\\sigma_{0}^{-}\\sigma_{1}^{+}) + J_{1,2}(\\sigma_{1}^{+}\\sigma_{2}^{-}+\\sigma_{1}^{-}\\sigma_{2}^{+}) + J_{1,3}(\\sigma_{1}^{+}\\sigma_{3}^{-}+\\sigma_{1}^{-}\\sigma_{3}^{+}) + J_{3,4}(\\sigma_{3}^{+}\\sigma_{4}^{-}+\\sigma_{3}^{-}\\sigma_{4}^{+}) \\\\ & + \\Omega_{d,0}(U_{0}^{(0,1)}(t))\\sigma_{0}^{X} + \\Omega_{d,1}(U_{1}^{(1,0)}(t)+U_{3}^{(1,3)}(t)+U_{2}^{(1,2)}(t))\\sigma_{1}^{X} \\\\ & + \\Omega_{d,2}(U_{4}^{(2,1)}(t))\\sigma_{2}^{X} + \\Omega_{d,3}(U_{6}^{(3,4)}(t)+U_{5}^{(3,1)}(t))\\sigma_{3}^{X} \\\\ & + \\Omega_{d,4}(U_{7}^{(4,3)}(t))\\sigma_{4}^{X} \\\\ \\end{align}$$</td></tr><tr><td>clops</td><td>2454</td></tr><tr><td>online_date</td><td>2021-01-08 05:00:00+00:00</td></tr><tr><td>allow_object_storage</td><td>True</td></tr><tr><td>parametric_pulses</td><td>['gaussian', 'gaussian_square', 'gaussian_square_drag', 'drag', 'constant']</td></tr><tr><td>supported_features</td><td>['qobj']</td></tr><tr><td>discriminators</td><td>['quadratic_discriminator', 'hw_centroid', 'linear_discriminator']</td></tr><tr><td>supported_instructions</td><td>['cx', 'id', 'delay', 'measure', 'reset', 'rz', 'sx', 'x']</td></tr><tr><td>live_data</td><td>False</td></tr><tr><td>local</td><td>False</td></tr><tr><td>open_pulse</td><td>False</td></tr><tr><td>dt</td><td>0.2222222222222222</td></tr><tr><td>timing_constraints</td><td>{'acquire_alignment': 16, 'granularity': 16, 'min_length': 64, 'pulse_alignment': 1}</td></tr><tr><td>meas_levels</td><td>[1, 2]</td></tr><tr><td>meas_map</td><td>[[0, 1, 2, 3, 4]]</td></tr><tr><td>backend_name</td><td>ibmq_belem</td></tr><tr><td>default_rep_delay</td><td>250.0</td></tr><tr><td>input_allowed</td><td>['job', 'runtime']</td></tr><tr><td>n_uchannels</td><td>8</td></tr><tr><td>url</td><td>None</td></tr><tr><td>processor_type</td><td>{'family': 'Falcon', 'revision': 4, 'segment': 'T'}</td></tr><tr><td>simulator</td><td>False</td></tr></table>"
      }
     },
     "1c92632e1d974a41ad2604e2348a2bb0": {
      "model_module": "@jupyter-widgets/base",
      "model_module_version": "2.0.0",
      "model_name": "LayoutModel",
      "state": {
       "grid_area": "right"
      }
     },
     "1d6a86e4046945939d46d9557d4a3859": {
      "model_module": "@jupyter-widgets/controls",
      "model_module_version": "2.0.0",
      "model_name": "HTMLModel",
      "state": {
       "layout": "IPY_MODEL_5fb97fe7e2414811b19c73ca837870c7",
       "style": "IPY_MODEL_99686fcf58374f42900886a65a03ecf6",
       "value": "<h1 style='color:#ffffff;background-color:#000000;padding-top: 1%;padding-bottom: 1%;padding-left: 1%; margin-top: 0px'>ibmq_belem</h1>"
      }
     },
     "1eff8c1438974deeaae559492d62cc73": {
      "model_module": "@jupyter-widgets/controls",
      "model_module_version": "2.0.0",
      "model_name": "HTMLModel",
      "state": {
       "layout": "IPY_MODEL_4e18f6c979bc4f0589308d378ec4c841",
       "style": "IPY_MODEL_310ed6695b7e4d63b1a7a74af09c1e30",
       "value": "<font style='color:#34BC6E'>DONE</font>"
      }
     },
     "1fd1229ac7444098aa0087da310873bf": {
      "model_module": "@jupyter-widgets/controls",
      "model_module_version": "2.0.0",
      "model_name": "GridBoxModel",
      "state": {
       "children": [
        "IPY_MODEL_6a11ca23fa9740cdb795da9191c239fb"
       ],
       "layout": "IPY_MODEL_0dca79dfa79e42f2a504ecdddb125ed9"
      }
     },
     "207c1b2c67fe45bca84f40d2a785bd0f": {
      "model_module": "@jupyter-widgets/controls",
      "model_module_version": "2.0.0",
      "model_name": "HTMLStyleModel",
      "state": {
       "description_width": "",
       "font_size": null,
       "text_color": null
      }
     },
     "258d3430e9394aa8915ce463a44d8eb3": {
      "model_module": "@jupyter-widgets/controls",
      "model_module_version": "2.0.0",
      "model_name": "VBoxModel",
      "state": {
       "children": [
        "IPY_MODEL_4b3c2f6b8cf540e0baf02613d3f80393",
        "IPY_MODEL_92ba71168d584f2ab086808f5277ee10"
       ],
       "layout": "IPY_MODEL_85c3604175d34d17b237a9e5b3b9dee6"
      }
     },
     "291d4bc9d2d34614aeef9046788a206f": {
      "model_module": "@jupyter-widgets/controls",
      "model_module_version": "2.0.0",
      "model_name": "ButtonStyleModel",
      "state": {
       "button_color": "white",
       "font_family": null,
       "font_size": null,
       "font_style": null,
       "font_variant": null,
       "font_weight": null,
       "text_color": null,
       "text_decoration": null
      }
     },
     "2c4aab35ca7c4dcaafa8ca2663762ebd": {
      "model_module": "@jupyter-widgets/controls",
      "model_module_version": "2.0.0",
      "model_name": "ButtonModel",
      "state": {
       "icon": "close",
       "layout": "IPY_MODEL_c91252ffb1434059ac62ba8ac22cbf48",
       "style": "IPY_MODEL_a3a0f1974cba45e6860db4881e700332",
       "tooltip": null
      }
     },
     "2de60026d5d6422fb20466b71a51a48b": {
      "model_module": "@jupyter-widgets/controls",
      "model_module_version": "2.0.0",
      "model_name": "TabModel",
      "state": {
       "children": [
        "IPY_MODEL_e8a216e21a1d4ddb973369cf767b7466",
        "IPY_MODEL_530828cc4d634be4b125b9e1c8579871",
        "IPY_MODEL_9ba2d7e6e38f4bd3a32feee30d1b1f1b",
        "IPY_MODEL_6e4bfb5ed45f4095914f2d571e21ae45",
        "IPY_MODEL_599e5adb479b470f8bb029c97ff95ddf"
       ],
       "layout": "IPY_MODEL_94cded19ebec4086857e58f9d0183c5f",
       "selected_index": 0,
       "titles": [
        "Configuration",
        "Qubit Properties",
        "Multi-Qubit Gates",
        "Error Map",
        "Job History"
       ]
      }
     },
     "2ef754034430419ebaddc8b1f172c921": {
      "model_module": "@jupyter-widgets/base",
      "model_module_version": "2.0.0",
      "model_name": "LayoutModel",
      "state": {
       "align_items": "center",
       "display": "flex-inline"
      }
     },
     "2fbd31076ae846e9b64366f0a9c5132b": {
      "model_module": "@jupyter-widgets/base",
      "model_module_version": "2.0.0",
      "model_name": "LayoutModel",
      "state": {
       "align_items": "center",
       "display": "flex-inline",
       "grid_area": "right",
       "max_height": "325px",
       "padding": "10px 10px 10px 10px",
       "width": "auto"
      }
     },
     "310ed6695b7e4d63b1a7a74af09c1e30": {
      "model_module": "@jupyter-widgets/controls",
      "model_module_version": "2.0.0",
      "model_name": "HTMLStyleModel",
      "state": {
       "description_width": "",
       "font_size": null,
       "text_color": null
      }
     },
     "31e7cb92fa3d40ceb1ee727228592eae": {
      "model_module": "@jupyter-widgets/controls",
      "model_module_version": "2.0.0",
      "model_name": "HTMLStyleModel",
      "state": {
       "description_width": "",
       "font_size": null,
       "text_color": null
      }
     },
     "350082109d0c42078a8da41559b6b886": {
      "model_module": "@jupyter-widgets/base",
      "model_module_version": "2.0.0",
      "model_name": "LayoutModel",
      "state": {
       "width": "70px"
      }
     },
     "3635ddbb46b04eb5a0fecbf0093b66a7": {
      "model_module": "@jupyter-widgets/controls",
      "model_module_version": "2.0.0",
      "model_name": "ButtonModel",
      "state": {
       "icon": "close",
       "layout": "IPY_MODEL_d5bcf0b8d9204ec7b1e4602e10dce803",
       "style": "IPY_MODEL_291d4bc9d2d34614aeef9046788a206f",
       "tooltip": null
      }
     },
     "3f8ca37633154af2b675d59b58b3e201": {
      "model_module": "@jupyter-widgets/base",
      "model_module_version": "2.0.0",
      "model_name": "LayoutModel",
      "state": {
       "grid_gap": "0px 0px",
       "grid_template_areas": "\n                               \"left right right right\"\n                               \"bottom bottom bottom bottom\"\n                               ",
       "grid_template_columns": "31% 23% 23% 23%",
       "grid_template_rows": "auto auto"
      }
     },
     "4215d9dd291b4457b0996717db8e231f": {
      "model_module": "@jupyter-widgets/controls",
      "model_module_version": "2.0.0",
      "model_name": "GridBoxModel",
      "state": {
       "children": [
        "IPY_MODEL_7eda48f44c12478e9a8a7954e04f9c6b",
        "IPY_MODEL_905f86ae05f34874afce522c2c172325",
        "IPY_MODEL_01e91bc0155c443297f66efec6ee0375"
       ],
       "layout": "IPY_MODEL_9cb6553157114d9baa7bd70c6cfa55ac"
      }
     },
     "423c00e974524aa3bf4fe734b223537d": {
      "model_module": "@jupyter-widgets/controls",
      "model_module_version": "2.0.0",
      "model_name": "HTMLModel",
      "state": {
       "layout": "IPY_MODEL_b92ec99f77534015810ea7eca7c9126d",
       "style": "IPY_MODEL_f2056cb260154feb84a68c45758aafac",
       "value": "<table><style>\ntable {\n    border-collapse: collapse;\n    width: auto;\n}\n\nth, td {\n    text-align: left;\n    padding: 8px;\n}\n\ntr:nth-child(even) {background-color: #f6f6f6;};\n</style><tr><th></th><th>Type</th><th>Gate error</th></tr><tr><td><font style='font-weight:bold'>cx4_3</font></td><td>cx</td><td>0.02289</td></tr><tr><td><font style='font-weight:bold'>cx3_4</font></td><td>cx</td><td>0.02289</td></tr><tr><td><font style='font-weight:bold'>cx3_1</font></td><td>cx</td><td>0.00982</td></tr></table>"
      }
     },
     "43431f4a3c5940d6adad9623e6df1b84": {
      "model_module": "@jupyter-widgets/controls",
      "model_module_version": "2.0.0",
      "model_name": "HTMLStyleModel",
      "state": {
       "description_width": "",
       "font_size": null,
       "text_color": null
      }
     },
     "45b93593f20d4db1ae6a6d485b5de4f1": {
      "model_module": "@jupyter-widgets/base",
      "model_module_version": "2.0.0",
      "model_name": "LayoutModel",
      "state": {
       "width": "95px"
      }
     },
     "45dd5d079ca142f8906b3f7c092ddb0f": {
      "model_module": "@jupyter-widgets/controls",
      "model_module_version": "2.0.0",
      "model_name": "HTMLModel",
      "state": {
       "layout": "IPY_MODEL_8bf9c8e85ab847f4997ace5c0ce87437",
       "style": "IPY_MODEL_1661d4e2322d4a78bdd14365bb6fc8e2",
       "value": "<p style='font-family: IBM Plex Sans, Arial, Helvetica, sans-serif; font-size: 20px; font-weight: medium;'>Circuit Properties</p>"
      }
     },
     "4828f9080ed54c7c9acfa8ee55acf437": {
      "model_module": "@jupyter-widgets/controls",
      "model_module_version": "2.0.0",
      "model_name": "HTMLStyleModel",
      "state": {
       "description_width": "",
       "font_size": null,
       "text_color": null
      }
     },
     "49421eb5d3564dd8b9e55bba4aa2e703": {
      "model_module": "@jupyter-widgets/base",
      "model_module_version": "2.0.0",
      "model_name": "LayoutModel",
      "state": {
       "grid_gap": "0px 0px",
       "grid_template_areas": "\n                                                   \"top top top\"\n                                                   \"left middle right\"\n                                                   ",
       "grid_template_columns": "33% 33% 33%",
       "grid_template_rows": "auto auto"
      }
     },
     "4985091f3689478a8770b61ffb10342e": {
      "model_module": "@jupyter-widgets/base",
      "model_module_version": "2.0.0",
      "model_name": "LayoutModel",
      "state": {
       "max_height": "620px"
      }
     },
     "4b3c2f6b8cf540e0baf02613d3f80393": {
      "model_module": "@jupyter-widgets/controls",
      "model_module_version": "2.0.0",
      "model_name": "HTMLModel",
      "state": {
       "layout": "IPY_MODEL_ae870580a0de474f9fa96146e5983f9c",
       "style": "IPY_MODEL_858d62a447ec492db2b1e47268a56c3b",
       "value": "<h1 style='color:#ffffff;background-color:#000000;padding-top: 1%;padding-bottom: 1%;padding-left: 1%; margin-top: 0px'>ibmq_lima</h1>"
      }
     },
     "4b61a20e5bf44d2c9b99f0ab6dc048ea": {
      "model_module": "@jupyter-widgets/controls",
      "model_module_version": "2.0.0",
      "model_name": "HTMLModel",
      "state": {
       "layout": "IPY_MODEL_a97db960fba04ab89f5b09e57ce556b3",
       "style": "IPY_MODEL_e513a02fc855404ab7307c82b76bfbd0",
       "value": "<div><font style='font-weight:bold'>last_update_date</font>: Sat 29 April 2023 at 07:38 UTC</div>"
      }
     },
     "4b65b8a5e6794365b8e18de133c18096": {
      "model_module": "@jupyter-widgets/controls",
      "model_module_version": "2.0.0",
      "model_name": "HTMLModel",
      "state": {
       "layout": "IPY_MODEL_45b93593f20d4db1ae6a6d485b5de4f1",
       "style": "IPY_MODEL_89928e1120994c02a9610a430d6488b7",
       "value": "<h5>Status</h5>"
      }
     },
     "4e18f6c979bc4f0589308d378ec4c841": {
      "model_module": "@jupyter-widgets/base",
      "model_module_version": "2.0.0",
      "model_name": "LayoutModel",
      "state": {
       "width": "95px"
      }
     },
     "503c8124429c482aa29cc0366815c3bd": {
      "model_module": "@jupyter-widgets/base",
      "model_module_version": "2.0.0",
      "model_name": "LayoutModel",
      "state": {
       "grid_gap": "0px 0px",
       "grid_template_areas": "\n                                                   \"top top top\"\n                                                   \"left middle right\"\n                                                   ",
       "grid_template_columns": "33% 33% 33%",
       "grid_template_rows": "auto auto"
      }
     },
     "52957c57a60f4c2c82f240a6e82fb8d9": {
      "model_module": "@jupyter-widgets/base",
      "model_module_version": "2.0.0",
      "model_name": "LayoutModel",
      "state": {
       "margin": "0px 0px 0px 37px",
       "width": "600px"
      }
     },
     "530828cc4d634be4b125b9e1c8579871": {
      "model_module": "@jupyter-widgets/controls",
      "model_module_version": "2.0.0",
      "model_name": "VBoxModel",
      "state": {
       "children": [
        "IPY_MODEL_4b61a20e5bf44d2c9b99f0ab6dc048ea",
        "IPY_MODEL_9d2c2d213f234e5895bbfa169fd16f75"
       ],
       "layout": "IPY_MODEL_72ddd6350a124ce9bc2013e0ccf1dd0f"
      }
     },
     "599e5adb479b470f8bb029c97ff95ddf": {
      "model_module": "@jupyter-widgets/controls",
      "model_module_version": "2.0.0",
      "model_name": "TabModel",
      "state": {
       "layout": "IPY_MODEL_93c580d2f4774cd8b7bfda8c69ad53ce"
      }
     },
     "5ae9ff0336c746b2918091c1a3e59fd2": {
      "model_module": "@jupyter-widgets/base",
      "model_module_version": "2.0.0",
      "model_name": "LayoutModel",
      "state": {
       "border_bottom": "4px solid #000000",
       "border_left": "4px solid #000000",
       "border_right": "4px solid #000000",
       "border_top": "4px solid #000000",
       "max_height": "650px",
       "min_height": "650px"
      }
     },
     "5fb97fe7e2414811b19c73ca837870c7": {
      "model_module": "@jupyter-widgets/base",
      "model_module_version": "2.0.0",
      "model_name": "LayoutModel",
      "state": {
       "margin": "0px 0px 0px 0px"
      }
     },
     "6167a0ebba144d29970d8bf7a1e8c2fc": {
      "model_module": "@jupyter-widgets/controls",
      "model_module_version": "2.0.0",
      "model_name": "HTMLStyleModel",
      "state": {
       "description_width": "",
       "font_size": null,
       "text_color": null
      }
     },
     "642fb3419aae4042bf044dff99347a74": {
      "model_module": "@jupyter-widgets/controls",
      "model_module_version": "2.0.0",
      "model_name": "HTMLModel",
      "state": {
       "layout": "IPY_MODEL_03cee527c01a49ae8e150c1a8c461017",
       "style": "IPY_MODEL_43431f4a3c5940d6adad9623e6df1b84",
       "value": "<h5>Backend</h5>"
      }
     },
     "64ea44a6a5bc49f2bd21a0f2100fb3d3": {
      "model_module": "@jupyter-widgets/output",
      "model_module_version": "1.0.0",
      "model_name": "OutputModel",
      "state": {
       "layout": "IPY_MODEL_fadb3b270fc24ef39a94e2641713c518",
       "outputs": [
        {
         "data": {
          "image/png": "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\n",
          "text/plain": "<Figure size 500x500 with 1 Axes>"
         },
         "metadata": {},
         "output_type": "display_data"
        }
       ]
      }
     },
     "6815396c63064c23ae36209e235c16dd": {
      "model_module": "@jupyter-widgets/controls",
      "model_module_version": "2.0.0",
      "model_name": "HTMLModel",
      "state": {
       "layout": "IPY_MODEL_685728325f624452a1009afe1e255f16",
       "style": "IPY_MODEL_e5f85e2eb78447b19b06fabcaa79622e",
       "value": "<div><font style='font-weight:bold'>last_update_date</font>: 2023-04-29 07:38:42+00:00</div>"
      }
     },
     "683f476ed0ac48e7b7032ba387a101cb": {
      "model_module": "@jupyter-widgets/controls",
      "model_module_version": "2.0.0",
      "model_name": "HTMLModel",
      "state": {
       "layout": "IPY_MODEL_9332af9ea9574e0e9dc916ebdb23a122",
       "style": "IPY_MODEL_fcd9bcd91a50481bae8214032e5707d6",
       "value": "<table><style>\ntable {\n    border-collapse: collapse;\n    width: auto;\n}\n\nth, td {\n    text-align: left;\n    padding: 8px;\n}\n\ntr:nth-child(even) {background-color: #f6f6f6;};\n</style><tr><th></th><th>Type</th><th>Gate error</th></tr><tr><td><font style='font-weight:bold'>cx0_1</font></td><td>cx</td><td>0.00623</td></tr><tr><td><font style='font-weight:bold'>cx1_0</font></td><td>cx</td><td>0.00623</td></tr></table>"
      }
     },
     "685728325f624452a1009afe1e255f16": {
      "model_module": "@jupyter-widgets/base",
      "model_module_version": "2.0.0",
      "model_name": "LayoutModel",
      "state": {
       "grid_area": "top"
      }
     },
     "699cbdb8b4274a4d859db9dd2b858e29": {
      "model_module": "@jupyter-widgets/controls",
      "model_module_version": "2.0.0",
      "model_name": "HTMLModel",
      "state": {
       "layout": "IPY_MODEL_ab6da973ce57486c9fae8f6b88596da7",
       "style": "IPY_MODEL_fbf1e5d04d1945038de562d5476ddf26",
       "value": "-"
      }
     },
     "6a11ca23fa9740cdb795da9191c239fb": {
      "model_module": "@jupyter-widgets/controls",
      "model_module_version": "2.0.0",
      "model_name": "ButtonModel",
      "state": {
       "button_style": "primary",
       "description": "Clear",
       "layout": "IPY_MODEL_a3918f801877494487f1b6835636d002",
       "style": "IPY_MODEL_a9e3c6243810437d968bd3be94694cc1",
       "tooltip": null
      }
     },
     "6a7d1e3bc89e481e8c889eac3020a3cd": {
      "model_module": "@jupyter-widgets/controls",
      "model_module_version": "2.0.0",
      "model_name": "HTMLModel",
      "state": {
       "layout": "IPY_MODEL_8a3e10c58f3840c5a15275fc0c2c265e",
       "style": "IPY_MODEL_72907594c80545ac9b43204a61b32e7d",
       "value": "<table><style>\ntable {\n    border-collapse: collapse;\n    width: auto;\n}\n\nth, td {\n    text-align: left;\n    padding: 8px;\n}\n\ntr:nth-child(even) {background-color: #f6f6f6;};\n</style><tr><th></th><th>Type</th><th>Gate error</th></tr><tr><td><font style='font-weight:bold'>cx1_3</font></td><td>cx</td><td>0.01402</td></tr><tr><td><font style='font-weight:bold'>cx2_1</font></td><td>cx</td><td>0.00592</td></tr><tr><td><font style='font-weight:bold'>cx1_2</font></td><td>cx</td><td>0.00592</td></tr></table>"
      }
     },
     "6bc52177e18b4e27aa7b067c865639c9": {
      "model_module": "@jupyter-widgets/output",
      "model_module_version": "1.0.0",
      "model_name": "OutputModel",
      "state": {
       "layout": "IPY_MODEL_2ef754034430419ebaddc8b1f172c921",
       "outputs": [
        {
         "data": {
          "image/png": "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\n",
          "text/plain": "<Figure size 1100x900 with 5 Axes>"
         },
         "metadata": {},
         "output_type": "display_data"
        }
       ]
      }
     },
     "6ceab830924a4e9a8113ca2bd2ddd862": {
      "model_module": "@jupyter-widgets/controls",
      "model_module_version": "2.0.0",
      "model_name": "HTMLStyleModel",
      "state": {
       "description_width": "",
       "font_size": null,
       "text_color": null
      }
     },
     "6d557d6fb5cc41ceadede4bdaa7eb62d": {
      "model_module": "@jupyter-widgets/controls",
      "model_module_version": "2.0.0",
      "model_name": "HTMLStyleModel",
      "state": {
       "description_width": "",
       "font_size": null,
       "text_color": null
      }
     },
     "6d690ce94dd745948157b529b29d2847": {
      "model_module": "@jupyter-widgets/base",
      "model_module_version": "2.0.0",
      "model_name": "LayoutModel",
      "state": {}
     },
     "6e4bfb5ed45f4095914f2d571e21ae45": {
      "model_module": "@jupyter-widgets/output",
      "model_module_version": "1.0.0",
      "model_name": "OutputModel",
      "state": {
       "layout": "IPY_MODEL_0a633688d2584bd49fdc8ca7053d7358",
       "outputs": [
        {
         "data": {
          "image/png": "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\n",
          "text/plain": "<Figure size 1100x900 with 5 Axes>"
         },
         "metadata": {},
         "output_type": "display_data"
        }
       ]
      }
     },
     "72907594c80545ac9b43204a61b32e7d": {
      "model_module": "@jupyter-widgets/controls",
      "model_module_version": "2.0.0",
      "model_name": "HTMLStyleModel",
      "state": {
       "description_width": "",
       "font_size": null,
       "text_color": null
      }
     },
     "72ddd6350a124ce9bc2013e0ccf1dd0f": {
      "model_module": "@jupyter-widgets/base",
      "model_module_version": "2.0.0",
      "model_name": "LayoutModel",
      "state": {}
     },
     "7eda48f44c12478e9a8a7954e04f9c6b": {
      "model_module": "@jupyter-widgets/controls",
      "model_module_version": "2.0.0",
      "model_name": "HTMLMathModel",
      "state": {
       "layout": "IPY_MODEL_b057bb5b555043bfa10d7ed822feb273",
       "style": "IPY_MODEL_7f5c64779a484159b5975d73b36ee22a",
       "value": "<table><style>\ntable {\n    border-collapse: collapse;\n    width: auto;\n}\n\nth, td {\n    text-align: left;\n    padding: 8px;\n}\n\ntr:nth-child(even) {background-color: #f6f6f6;}\n</style><tr><th>Property</th><th>Value</th></tr><tr><td><font style='font-weight:bold'>n_qubits</font></td><td>5</td></tr><tr><td><font style='font-weight:bold'>quantum_volume</font></td><td>8</td></tr><tr><td><font style='font-weight:bold'>operational</font></td><td>True</td></tr><tr><td><font style='font-weight:bold'>status_msg</font></td><td>active</td></tr><tr><td><font style='font-weight:bold'>pending_jobs</font></td><td>14</td></tr><tr><td><font style='font-weight:bold'>backend_version</font></td><td>1.0.48</td></tr><tr><td><font style='font-weight:bold'>basis_gates</font></td><td>['id', 'rz', 'sx', 'x', 'cx', 'reset']</td></tr><tr><td><font style='font-weight:bold'>max_shots</font></td><td>20000</td></tr><tr><td><font style='font-weight:bold'>max_experiments</font></td><td>100</td></tr></table>"
      }
     },
     "7f5c64779a484159b5975d73b36ee22a": {
      "model_module": "@jupyter-widgets/controls",
      "model_module_version": "2.0.0",
      "model_name": "HTMLMathStyleModel",
      "state": {
       "description_width": "",
       "font_size": null,
       "text_color": null
      }
     },
     "7f90474c61ee4a87a74e134d95dbfce9": {
      "model_module": "@jupyter-widgets/controls",
      "model_module_version": "2.0.0",
      "model_name": "HTMLStyleModel",
      "state": {
       "description_width": "",
       "font_size": null,
       "text_color": null
      }
     },
     "8580d46f0a7d410fadd5705139ee52a1": {
      "model_module": "@jupyter-widgets/base",
      "model_module_version": "2.0.0",
      "model_name": "LayoutModel",
      "state": {}
     },
     "858d62a447ec492db2b1e47268a56c3b": {
      "model_module": "@jupyter-widgets/controls",
      "model_module_version": "2.0.0",
      "model_name": "HTMLStyleModel",
      "state": {
       "description_width": "",
       "font_size": null,
       "text_color": null
      }
     },
     "85ae55f050bb4fe5b37a465b24254801": {
      "model_module": "@jupyter-widgets/base",
      "model_module_version": "2.0.0",
      "model_name": "LayoutModel",
      "state": {
       "width": "190px"
      }
     },
     "85c3604175d34d17b237a9e5b3b9dee6": {
      "model_module": "@jupyter-widgets/base",
      "model_module_version": "2.0.0",
      "model_name": "LayoutModel",
      "state": {
       "border_bottom": "4px solid #000000",
       "border_left": "4px solid #000000",
       "border_right": "4px solid #000000",
       "border_top": "4px solid #000000",
       "max_height": "650px",
       "min_height": "650px"
      }
     },
     "87e81eb6cc854d32931bbc1de1878a03": {
      "model_module": "@jupyter-widgets/base",
      "model_module_version": "2.0.0",
      "model_name": "LayoutModel",
      "state": {
       "width": "145px"
      }
     },
     "89928e1120994c02a9610a430d6488b7": {
      "model_module": "@jupyter-widgets/controls",
      "model_module_version": "2.0.0",
      "model_name": "HTMLStyleModel",
      "state": {
       "description_width": "",
       "font_size": null,
       "text_color": null
      }
     },
     "89cfde17e3f34804af0b4b5aec903dfa": {
      "model_module": "@jupyter-widgets/controls",
      "model_module_version": "2.0.0",
      "model_name": "HTMLStyleModel",
      "state": {
       "description_width": "",
       "font_size": null,
       "text_color": null
      }
     },
     "8a3e10c58f3840c5a15275fc0c2c265e": {
      "model_module": "@jupyter-widgets/base",
      "model_module_version": "2.0.0",
      "model_name": "LayoutModel",
      "state": {
       "grid_area": "middle"
      }
     },
     "8bf9c8e85ab847f4997ace5c0ce87437": {
      "model_module": "@jupyter-widgets/base",
      "model_module_version": "2.0.0",
      "model_name": "LayoutModel",
      "state": {
       "margin": "0px 0px 10px 0px"
      }
     },
     "8df73344c3584d3d92f8a0fb6bd183b7": {
      "model_module": "@jupyter-widgets/controls",
      "model_module_version": "2.0.0",
      "model_name": "HTMLStyleModel",
      "state": {
       "description_width": "",
       "font_size": null,
       "text_color": null
      }
     },
     "8e77803912e641a796ab982eaed44b7f": {
      "model_module": "@jupyter-widgets/controls",
      "model_module_version": "2.0.0",
      "model_name": "HTMLModel",
      "state": {
       "layout": "IPY_MODEL_d9ab117f3e974903bfb612425ec028c8",
       "style": "IPY_MODEL_ec9583d5fb57477c9b58043b725fcfa5",
       "value": "<div><font style='font-weight:bold'>last_update_date</font>: 2023-04-29 08:16:15+00:00</div>"
      }
     },
     "8f0c7aa9e3754850b6e41068a5462f8b": {
      "model_module": "@jupyter-widgets/controls",
      "model_module_version": "2.0.0",
      "model_name": "HTMLModel",
      "state": {
       "layout": "IPY_MODEL_8580d46f0a7d410fadd5705139ee52a1",
       "style": "IPY_MODEL_19a78f78b34a4aea80e2ef071a747fd9",
       "value": "<h5>Message</h5>"
      }
     },
     "8fb24a307fdb4c32826c9f357ce2c5d3": {
      "model_module": "@jupyter-widgets/base",
      "model_module_version": "2.0.0",
      "model_name": "LayoutModel",
      "state": {
       "width": "190px"
      }
     },
     "905f86ae05f34874afce522c2c172325": {
      "model_module": "@jupyter-widgets/output",
      "model_module_version": "1.0.0",
      "model_name": "OutputModel",
      "state": {
       "layout": "IPY_MODEL_2fbd31076ae846e9b64366f0a9c5132b",
       "outputs": [
        {
         "data": {
          "image/png": "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\n",
          "text/plain": "<Figure size 500x500 with 1 Axes>"
         },
         "metadata": {},
         "output_type": "display_data"
        }
       ]
      }
     },
     "91c04f2bd0494c4ca3e137feb1ac5dc3": {
      "model_module": "@jupyter-widgets/controls",
      "model_module_version": "2.0.0",
      "model_name": "HTMLModel",
      "state": {
       "layout": "IPY_MODEL_adef2724f98046b682f02989a412caac",
       "style": "IPY_MODEL_89cfde17e3f34804af0b4b5aec903dfa",
       "value": "ch6rs2p6klhd7q955sbg"
      }
     },
     "92ba71168d584f2ab086808f5277ee10": {
      "model_module": "@jupyter-widgets/controls",
      "model_module_version": "2.0.0",
      "model_name": "TabModel",
      "state": {
       "children": [
        "IPY_MODEL_4215d9dd291b4457b0996717db8e231f",
        "IPY_MODEL_b68d7d58c3bb4bf4b85b4e1fea8dff74",
        "IPY_MODEL_03d29e064ee3494eb8fe52c37f5b4948",
        "IPY_MODEL_6bc52177e18b4e27aa7b067c865639c9",
        "IPY_MODEL_c8a781eb8c704d37be7727783640be77"
       ],
       "layout": "IPY_MODEL_1aaf044f1a4349f08e01bff18036ac88",
       "selected_index": 0,
       "titles": [
        "Configuration",
        "Qubit Properties",
        "Multi-Qubit Gates",
        "Error Map",
        "Job History"
       ]
      }
     },
     "9332af9ea9574e0e9dc916ebdb23a122": {
      "model_module": "@jupyter-widgets/base",
      "model_module_version": "2.0.0",
      "model_name": "LayoutModel",
      "state": {
       "grid_area": "right"
      }
     },
     "93c580d2f4774cd8b7bfda8c69ad53ce": {
      "model_module": "@jupyter-widgets/base",
      "model_module_version": "2.0.0",
      "model_name": "LayoutModel",
      "state": {
       "max_height": "620px"
      }
     },
     "94cded19ebec4086857e58f9d0183c5f": {
      "model_module": "@jupyter-widgets/base",
      "model_module_version": "2.0.0",
      "model_name": "LayoutModel",
      "state": {}
     },
     "950c401610414d25bd001fb8da876042": {
      "model_module": "@jupyter-widgets/base",
      "model_module_version": "2.0.0",
      "model_name": "LayoutModel",
      "state": {
       "grid_area": "left"
      }
     },
     "99686fcf58374f42900886a65a03ecf6": {
      "model_module": "@jupyter-widgets/controls",
      "model_module_version": "2.0.0",
      "model_name": "HTMLStyleModel",
      "state": {
       "description_width": "",
       "font_size": null,
       "text_color": null
      }
     },
     "9970c20aae9d429a83b6dc0fcbbc6589": {
      "model_module": "@jupyter-widgets/controls",
      "model_module_version": "2.0.0",
      "model_name": "HTMLStyleModel",
      "state": {
       "description_width": "",
       "font_size": null,
       "text_color": null
      }
     },
     "9ba2d7e6e38f4bd3a32feee30d1b1f1b": {
      "model_module": "@jupyter-widgets/controls",
      "model_module_version": "2.0.0",
      "model_name": "GridBoxModel",
      "state": {
       "children": [
        "IPY_MODEL_6815396c63064c23ae36209e235c16dd",
        "IPY_MODEL_423c00e974524aa3bf4fe734b223537d",
        "IPY_MODEL_fb245f268863406987b4587b6dc3ec54",
        "IPY_MODEL_e64b0652417e4b9ba0f27f861ce5616e"
       ],
       "layout": "IPY_MODEL_49421eb5d3564dd8b9e55bba4aa2e703"
      }
     },
     "9cb6553157114d9baa7bd70c6cfa55ac": {
      "model_module": "@jupyter-widgets/base",
      "model_module_version": "2.0.0",
      "model_name": "LayoutModel",
      "state": {
       "grid_gap": "0px 0px",
       "grid_template_areas": "\n                               \"left right right right\"\n                               \"bottom bottom bottom bottom\"\n                               ",
       "grid_template_columns": "31% 23% 23% 23%",
       "grid_template_rows": "auto auto"
      }
     },
     "9d2c2d213f234e5895bbfa169fd16f75": {
      "model_module": "@jupyter-widgets/controls",
      "model_module_version": "2.0.0",
      "model_name": "HTMLModel",
      "state": {
       "layout": "IPY_MODEL_f7fa073ed3ed497a88fbe34c5245a619",
       "style": "IPY_MODEL_cdd75805e6d94ad2b35a8156ca56bcf2",
       "value": "<table><style>\ntable {\n    border-collapse: collapse;\n    width: auto;\n}\n\nth, td {\n    text-align: left;\n    padding: 8px;\n}\n\ntr:nth-child(even) {background-color: #f6f6f6;}\n</style><tr><th></th><th>Frequency</th><th>T1</th><th>T2</th><th>RZ</th><th>SX</th><th>X</th><th>Readout error</th></tr><tr><td><font style='font-weight:bold'>Q0</font></td><td>5.09022 GHz</td><td>70.98999 us</td><td>133.21426 us</td><td>0</td><td>0.00019</td><td>0.00019</td><td>0.021 </td><tr><td><font style='font-weight:bold'>Q1</font></td><td>5.24552 GHz</td><td>90.35253 us</td><td>112.79826 us</td><td>0</td><td>0.00023</td><td>0.00023</td><td>0.0172 </td><tr><td><font style='font-weight:bold'>Q2</font></td><td>5.3615 GHz</td><td>84.66667 us</td><td>56.61832 us</td><td>0</td><td>0.00103</td><td>0.00103</td><td>0.082 </td><tr><td><font style='font-weight:bold'>Q3</font></td><td>5.17032 GHz</td><td>52.52607 us</td><td>29.15435 us</td><td>0</td><td>0.00064</td><td>0.00064</td><td>0.0369 </td><tr><td><font style='font-weight:bold'>Q4</font></td><td>5.25846 GHz</td><td>44.15319 us</td><td>32.18962 us</td><td>0</td><td>0.00053</td><td>0.00053</td><td>0.0367 </td></table>"
      }
     },
     "9d95da97d2f647978808db7c4e230a0e": {
      "model_module": "@jupyter-widgets/controls",
      "model_module_version": "2.0.0",
      "model_name": "HTMLModel",
      "state": {
       "layout": "IPY_MODEL_bebc1378773249dd950a47281421a463",
       "style": "IPY_MODEL_6ceab830924a4e9a8113ca2bd2ddd862",
       "value": "<table><style>\ntable {\n    border-collapse: collapse;\n    width: auto;\n}\n\nth, td {\n    text-align: left;\n    padding: 8px;\n}\n\ntr:nth-child(even) {background-color: #f6f6f6;}\n</style><tr><th></th><th>Frequency</th><th>T1</th><th>T2</th><th>RZ</th><th>SX</th><th>X</th><th>Readout error</th></tr><tr><td><font style='font-weight:bold'>Q0</font></td><td>5.02975 GHz</td><td>112.39448 us</td><td>146.11333 us</td><td>0</td><td>0.0004</td><td>0.0004</td><td>0.018 </td><tr><td><font style='font-weight:bold'>Q1</font></td><td>5.12774 GHz</td><td>140.30777 us</td><td>69.54011 us</td><td>0</td><td>0.00067</td><td>0.00067</td><td>0.0149 </td><tr><td><font style='font-weight:bold'>Q2</font></td><td>5.24734 GHz</td><td>62.67124 us</td><td>91.04627 us</td><td>0</td><td>0.00095</td><td>0.00095</td><td>0.0227 </td><tr><td><font style='font-weight:bold'>Q3</font></td><td>5.30256 GHz</td><td>109.24628 us</td><td>73.54309 us</td><td>0</td><td>0.00032</td><td>0.00032</td><td>0.048 </td><tr><td><font style='font-weight:bold'>Q4</font></td><td>5.09209 GHz</td><td>8.96529 us</td><td>10.35685 us</td><td>0</td><td>0.00074</td><td>0.00074</td><td>0.056 </td></table>"
      }
     },
     "a3918f801877494487f1b6835636d002": {
      "model_module": "@jupyter-widgets/base",
      "model_module_version": "2.0.0",
      "model_name": "LayoutModel",
      "state": {
       "grid_area": "right",
       "padding": "0px 0px 0px 0px",
       "width": "70px"
      }
     },
     "a3a0f1974cba45e6860db4881e700332": {
      "model_module": "@jupyter-widgets/controls",
      "model_module_version": "2.0.0",
      "model_name": "ButtonStyleModel",
      "state": {
       "button_color": "white",
       "font_family": null,
       "font_size": null,
       "font_style": null,
       "font_variant": null,
       "font_weight": null,
       "text_color": null,
       "text_decoration": null
      }
     },
     "a442246130a24b08b6f17418087239fd": {
      "model_module": "@jupyter-widgets/controls",
      "model_module_version": "2.0.0",
      "model_name": "HTMLModel",
      "state": {
       "layout": "IPY_MODEL_950c401610414d25bd001fb8da876042",
       "style": "IPY_MODEL_4828f9080ed54c7c9acfa8ee55acf437",
       "value": "<table><style>\ntable {\n    border-collapse: collapse;\n    width: auto;\n}\n\nth, td {\n    text-align: left;\n    padding: 8px;\n}\n\ntr:nth-child(even) {background-color: #f6f6f6;};\n</style><tr><th></th><th>Type</th><th>Gate error</th></tr><tr><td><font style='font-weight:bold'>cx4_3</font></td><td>cx</td><td>0.0219</td></tr><tr><td><font style='font-weight:bold'>cx3_4</font></td><td>cx</td><td>0.0219</td></tr><tr><td><font style='font-weight:bold'>cx3_1</font></td><td>cx</td><td>0.01402</td></tr></table>"
      }
     },
     "a47791eb293e4ff2af8c80059ebd0d82": {
      "model_module": "@jupyter-widgets/controls",
      "model_module_version": "2.0.0",
      "model_name": "HBoxModel",
      "state": {
       "children": [
        "IPY_MODEL_c99c63cea6d742aa807f7d52c16e6c21",
        "IPY_MODEL_642fb3419aae4042bf044dff99347a74",
        "IPY_MODEL_4b65b8a5e6794365b8e18de133c18096",
        "IPY_MODEL_f369dd2ec1564a6f85dc5a2bc4c29357",
        "IPY_MODEL_8f0c7aa9e3754850b6e41068a5462f8b"
       ],
       "layout": "IPY_MODEL_52957c57a60f4c2c82f240a6e82fb8d9"
      }
     },
     "a541fb5db3b14fb5bc8604b7c9406d94": {
      "model_module": "@jupyter-widgets/base",
      "model_module_version": "2.0.0",
      "model_name": "LayoutModel",
      "state": {
       "grid_area": "bottom",
       "width": "auto"
      }
     },
     "a7084a35d22644a6b1c92e2c0e13fb8f": {
      "model_module": "@jupyter-widgets/controls",
      "model_module_version": "2.0.0",
      "model_name": "VBoxModel",
      "state": {
       "children": [
        "IPY_MODEL_1d6a86e4046945939d46d9557d4a3859",
        "IPY_MODEL_2de60026d5d6422fb20466b71a51a48b"
       ],
       "layout": "IPY_MODEL_5ae9ff0336c746b2918091c1a3e59fd2"
      }
     },
     "a97db960fba04ab89f5b09e57ce556b3": {
      "model_module": "@jupyter-widgets/base",
      "model_module_version": "2.0.0",
      "model_name": "LayoutModel",
      "state": {}
     },
     "a9e3c6243810437d968bd3be94694cc1": {
      "model_module": "@jupyter-widgets/controls",
      "model_module_version": "2.0.0",
      "model_name": "ButtonStyleModel",
      "state": {
       "font_family": null,
       "font_size": null,
       "font_style": null,
       "font_variant": null,
       "font_weight": null,
       "text_color": null,
       "text_decoration": null
      }
     },
     "aa203fda547d4cf5acecfe1ac0065749": {
      "model_module": "@jupyter-widgets/base",
      "model_module_version": "2.0.0",
      "model_name": "LayoutModel",
      "state": {
       "width": "70px"
      }
     },
     "ab6da973ce57486c9fae8f6b88596da7": {
      "model_module": "@jupyter-widgets/base",
      "model_module_version": "2.0.0",
      "model_name": "LayoutModel",
      "state": {
       "width": "70px"
      }
     },
     "adef2724f98046b682f02989a412caac": {
      "model_module": "@jupyter-widgets/base",
      "model_module_version": "2.0.0",
      "model_name": "LayoutModel",
      "state": {
       "width": "190px"
      }
     },
     "ae870580a0de474f9fa96146e5983f9c": {
      "model_module": "@jupyter-widgets/base",
      "model_module_version": "2.0.0",
      "model_name": "LayoutModel",
      "state": {
       "margin": "0px 0px 0px 0px"
      }
     },
     "b02fe17629154d1c84419e4a5f0df623": {
      "model_module": "@jupyter-widgets/controls",
      "model_module_version": "2.0.0",
      "model_name": "HTMLModel",
      "state": {
       "layout": "IPY_MODEL_c3ae7b957aec441ca323ab705209b138",
       "style": "IPY_MODEL_f85c08612b514d359864b0f7ed07ef53",
       "value": "<div><font style='font-weight:bold'>last_update_date</font>: Sat 29 April 2023 at 08:16 UTC</div>"
      }
     },
     "b057bb5b555043bfa10d7ed822feb273": {
      "model_module": "@jupyter-widgets/base",
      "model_module_version": "2.0.0",
      "model_name": "LayoutModel",
      "state": {
       "grid_area": "left",
       "width": "100%"
      }
     },
     "b0febf72cb4544d0a9dc26550819a3fa": {
      "model_module": "@jupyter-widgets/controls",
      "model_module_version": "2.0.0",
      "model_name": "HTMLModel",
      "state": {
       "layout": "IPY_MODEL_85ae55f050bb4fe5b37a465b24254801",
       "style": "IPY_MODEL_7f90474c61ee4a87a74e134d95dbfce9",
       "value": "ch6rrig5ngm0qh8ghhl0"
      }
     },
     "b107719b223c4e698226886baee9ae73": {
      "model_module": "@jupyter-widgets/controls",
      "model_module_version": "2.0.0",
      "model_name": "HBoxModel",
      "state": {
       "children": [
        "IPY_MODEL_3635ddbb46b04eb5a0fecbf0093b66a7",
        "IPY_MODEL_91c04f2bd0494c4ca3e137feb1ac5dc3",
        "IPY_MODEL_dd25d1676d35439aa1ad11bdfc5b2f01",
        "IPY_MODEL_c4077edffe5a4de0951f18dbca150895",
        "IPY_MODEL_699cbdb8b4274a4d859db9dd2b858e29",
        "IPY_MODEL_022d088d64d14a66b123919544a69fb9"
       ],
       "layout": "IPY_MODEL_f005a51261ab4dfbab6b725131b0a9b9"
      }
     },
     "b68d7d58c3bb4bf4b85b4e1fea8dff74": {
      "model_module": "@jupyter-widgets/controls",
      "model_module_version": "2.0.0",
      "model_name": "VBoxModel",
      "state": {
       "children": [
        "IPY_MODEL_b02fe17629154d1c84419e4a5f0df623",
        "IPY_MODEL_9d95da97d2f647978808db7c4e230a0e"
       ],
       "layout": "IPY_MODEL_c46d8b8e8c204d0194c5aac4d1c3c93c"
      }
     },
     "b89744b73aca463b890edaf631ae65cd": {
      "model_module": "@jupyter-widgets/controls",
      "model_module_version": "2.0.0",
      "model_name": "HTMLStyleModel",
      "state": {
       "description_width": "",
       "font_size": null,
       "text_color": null
      }
     },
     "b92ec99f77534015810ea7eca7c9126d": {
      "model_module": "@jupyter-widgets/base",
      "model_module_version": "2.0.0",
      "model_name": "LayoutModel",
      "state": {
       "grid_area": "left"
      }
     },
     "b9e49655adb747a797615db30a104fa5": {
      "model_module": "@jupyter-widgets/controls",
      "model_module_version": "2.0.0",
      "model_name": "HTMLMathModel",
      "state": {
       "layout": "IPY_MODEL_e455b4c9c026460d84ae99894fdd37ef",
       "style": "IPY_MODEL_f7318452cc8d446dac18080a7bc26188",
       "value": "<table><style>\ntable {\n    border-collapse: collapse;\n    width: auto;\n}\n\nth, td {\n    text-align: left;\n    padding: 8px;\n}\n\ntr:nth-child(even) {background-color: #f6f6f6;}\n</style><tr><th>Property</th><th>Value</th></tr><tr><td><font style='font-weight:bold'>n_qubits</font></td><td>5</td></tr><tr><td><font style='font-weight:bold'>quantum_volume</font></td><td>16</td></tr><tr><td><font style='font-weight:bold'>operational</font></td><td>True</td></tr><tr><td><font style='font-weight:bold'>status_msg</font></td><td>active</td></tr><tr><td><font style='font-weight:bold'>pending_jobs</font></td><td>10</td></tr><tr><td><font style='font-weight:bold'>backend_version</font></td><td>1.2.8</td></tr><tr><td><font style='font-weight:bold'>basis_gates</font></td><td>['id', 'rz', 'sx', 'x', 'cx', 'reset']</td></tr><tr><td><font style='font-weight:bold'>max_shots</font></td><td>20000</td></tr><tr><td><font style='font-weight:bold'>max_experiments</font></td><td>100</td></tr></table>"
      }
     },
     "be801da0e6ab48feb9c36a3b7ea88130": {
      "model_module": "@jupyter-widgets/base",
      "model_module_version": "2.0.0",
      "model_name": "LayoutModel",
      "state": {
       "width": "145px"
      }
     },
     "bebc1378773249dd950a47281421a463": {
      "model_module": "@jupyter-widgets/base",
      "model_module_version": "2.0.0",
      "model_name": "LayoutModel",
      "state": {}
     },
     "c08e7361d15e4a52b131317432e86a81": {
      "model_module": "@jupyter-widgets/controls",
      "model_module_version": "2.0.0",
      "model_name": "HTMLStyleModel",
      "state": {
       "description_width": "",
       "font_size": null,
       "text_color": null
      }
     },
     "c3ae7b957aec441ca323ab705209b138": {
      "model_module": "@jupyter-widgets/base",
      "model_module_version": "2.0.0",
      "model_name": "LayoutModel",
      "state": {}
     },
     "c4077edffe5a4de0951f18dbca150895": {
      "model_module": "@jupyter-widgets/controls",
      "model_module_version": "2.0.0",
      "model_name": "HTMLModel",
      "state": {
       "layout": "IPY_MODEL_fbe528be9c1c4e7e8854653a5c86d705",
       "style": "IPY_MODEL_0ec5dd3d49f94c5280bf225e065b8251",
       "value": "<font style='color:#34BC6E'>DONE</font>"
      }
     },
     "c46d8b8e8c204d0194c5aac4d1c3c93c": {
      "model_module": "@jupyter-widgets/base",
      "model_module_version": "2.0.0",
      "model_name": "LayoutModel",
      "state": {}
     },
     "c7354569c358475ca08f4ae5ab8612aa": {
      "model_module": "@jupyter-widgets/controls",
      "model_module_version": "2.0.0",
      "model_name": "HTMLModel",
      "state": {
       "layout": "IPY_MODEL_350082109d0c42078a8da41559b6b886",
       "style": "IPY_MODEL_31e7cb92fa3d40ceb1ee727228592eae",
       "value": "-"
      }
     },
     "c77e42b395ab4aab9d262ccdd6bba79b": {
      "model_module": "@jupyter-widgets/base",
      "model_module_version": "2.0.0",
      "model_name": "LayoutModel",
      "state": {
       "max_width": "700px",
       "min_width": "700px"
      }
     },
     "c8a781eb8c704d37be7727783640be77": {
      "model_module": "@jupyter-widgets/controls",
      "model_module_version": "2.0.0",
      "model_name": "TabModel",
      "state": {
       "layout": "IPY_MODEL_4985091f3689478a8770b61ffb10342e"
      }
     },
     "c91252ffb1434059ac62ba8ac22cbf48": {
      "model_module": "@jupyter-widgets/base",
      "model_module_version": "2.0.0",
      "model_name": "LayoutModel",
      "state": {
       "margin": "0px 5px 0px 0px",
       "width": "32px"
      }
     },
     "c99c63cea6d742aa807f7d52c16e6c21": {
      "model_module": "@jupyter-widgets/controls",
      "model_module_version": "2.0.0",
      "model_name": "HTMLModel",
      "state": {
       "layout": "IPY_MODEL_8fb24a307fdb4c32826c9f357ce2c5d3",
       "style": "IPY_MODEL_0b1fa07de2394c489bceed879d0ce55d",
       "value": "<h5>Job ID</h5>"
      }
     },
     "cdd75805e6d94ad2b35a8156ca56bcf2": {
      "model_module": "@jupyter-widgets/controls",
      "model_module_version": "2.0.0",
      "model_name": "HTMLStyleModel",
      "state": {
       "description_width": "",
       "font_size": null,
       "text_color": null
      }
     },
     "d5bcf0b8d9204ec7b1e4602e10dce803": {
      "model_module": "@jupyter-widgets/base",
      "model_module_version": "2.0.0",
      "model_name": "LayoutModel",
      "state": {
       "margin": "0px 5px 0px 0px",
       "width": "32px"
      }
     },
     "d9ab117f3e974903bfb612425ec028c8": {
      "model_module": "@jupyter-widgets/base",
      "model_module_version": "2.0.0",
      "model_name": "LayoutModel",
      "state": {
       "grid_area": "top"
      }
     },
     "dd25d1676d35439aa1ad11bdfc5b2f01": {
      "model_module": "@jupyter-widgets/controls",
      "model_module_version": "2.0.0",
      "model_name": "HTMLModel",
      "state": {
       "layout": "IPY_MODEL_be801da0e6ab48feb9c36a3b7ea88130",
       "style": "IPY_MODEL_6d557d6fb5cc41ceadede4bdaa7eb62d",
       "value": "ibmq_belem"
      }
     },
     "df8b787d143c45b0ab0b84c8064fcd3d": {
      "model_module": "@jupyter-widgets/controls",
      "model_module_version": "2.0.0",
      "model_name": "HTMLMathStyleModel",
      "state": {
       "description_width": "",
       "font_size": null,
       "text_color": null
      }
     },
     "e060589b15cc425d93667c24996c1c5f": {
      "model_module": "@jupyter-widgets/base",
      "model_module_version": "2.0.0",
      "model_name": "LayoutModel",
      "state": {}
     },
     "e455b4c9c026460d84ae99894fdd37ef": {
      "model_module": "@jupyter-widgets/base",
      "model_module_version": "2.0.0",
      "model_name": "LayoutModel",
      "state": {
       "grid_area": "left",
       "width": "100%"
      }
     },
     "e513a02fc855404ab7307c82b76bfbd0": {
      "model_module": "@jupyter-widgets/controls",
      "model_module_version": "2.0.0",
      "model_name": "HTMLStyleModel",
      "state": {
       "description_width": "",
       "font_size": null,
       "text_color": null
      }
     },
     "e5f85e2eb78447b19b06fabcaa79622e": {
      "model_module": "@jupyter-widgets/controls",
      "model_module_version": "2.0.0",
      "model_name": "HTMLStyleModel",
      "state": {
       "description_width": "",
       "font_size": null,
       "text_color": null
      }
     },
     "e64b0652417e4b9ba0f27f861ce5616e": {
      "model_module": "@jupyter-widgets/controls",
      "model_module_version": "2.0.0",
      "model_name": "HTMLModel",
      "state": {
       "layout": "IPY_MODEL_1c92632e1d974a41ad2604e2348a2bb0",
       "style": "IPY_MODEL_207c1b2c67fe45bca84f40d2a785bd0f",
       "value": "<table><style>\ntable {\n    border-collapse: collapse;\n    width: auto;\n}\n\nth, td {\n    text-align: left;\n    padding: 8px;\n}\n\ntr:nth-child(even) {background-color: #f6f6f6;};\n</style><tr><th></th><th>Type</th><th>Gate error</th></tr><tr><td><font style='font-weight:bold'>cx1_0</font></td><td>cx</td><td>0.01066</td></tr><tr><td><font style='font-weight:bold'>cx0_1</font></td><td>cx</td><td>0.01066</td></tr></table>"
      }
     },
     "e8a216e21a1d4ddb973369cf767b7466": {
      "model_module": "@jupyter-widgets/controls",
      "model_module_version": "2.0.0",
      "model_name": "GridBoxModel",
      "state": {
       "children": [
        "IPY_MODEL_b9e49655adb747a797615db30a104fa5",
        "IPY_MODEL_64ea44a6a5bc49f2bd21a0f2100fb3d3",
        "IPY_MODEL_1c4a9c59345344c1a49963b681081992"
       ],
       "layout": "IPY_MODEL_3f8ca37633154af2b675d59b58b3e201"
      }
     },
     "e8c6a96178ed44e19d30643015551e90": {
      "model_module": "@jupyter-widgets/base",
      "model_module_version": "2.0.0",
      "model_name": "LayoutModel",
      "state": {
       "grid_area": "bottom",
       "width": "auto"
      }
     },
     "eba4f02dd2524a339f7e65d242b5ef9c": {
      "model_module": "@jupyter-widgets/controls",
      "model_module_version": "2.0.0",
      "model_name": "HTMLModel",
      "state": {
       "layout": "IPY_MODEL_87e81eb6cc854d32931bbc1de1878a03",
       "style": "IPY_MODEL_c08e7361d15e4a52b131317432e86a81",
       "value": "ibmq_belem"
      }
     },
     "ec9583d5fb57477c9b58043b725fcfa5": {
      "model_module": "@jupyter-widgets/controls",
      "model_module_version": "2.0.0",
      "model_name": "HTMLStyleModel",
      "state": {
       "description_width": "",
       "font_size": null,
       "text_color": null
      }
     },
     "f005a51261ab4dfbab6b725131b0a9b9": {
      "model_module": "@jupyter-widgets/base",
      "model_module_version": "2.0.0",
      "model_name": "LayoutModel",
      "state": {
       "max_width": "700px",
       "min_width": "700px"
      }
     },
     "f2056cb260154feb84a68c45758aafac": {
      "model_module": "@jupyter-widgets/controls",
      "model_module_version": "2.0.0",
      "model_name": "HTMLStyleModel",
      "state": {
       "description_width": "",
       "font_size": null,
       "text_color": null
      }
     },
     "f331ba9d182e40be95b982986c2d82d9": {
      "model_module": "@jupyter-widgets/controls",
      "model_module_version": "2.0.0",
      "model_name": "HTMLMathStyleModel",
      "state": {
       "description_width": "",
       "font_size": null,
       "text_color": null
      }
     },
     "f369dd2ec1564a6f85dc5a2bc4c29357": {
      "model_module": "@jupyter-widgets/controls",
      "model_module_version": "2.0.0",
      "model_name": "HTMLModel",
      "state": {
       "layout": "IPY_MODEL_aa203fda547d4cf5acecfe1ac0065749",
       "style": "IPY_MODEL_6167a0ebba144d29970d8bf7a1e8c2fc",
       "value": "<h5>Queue</h5>"
      }
     },
     "f7318452cc8d446dac18080a7bc26188": {
      "model_module": "@jupyter-widgets/controls",
      "model_module_version": "2.0.0",
      "model_name": "HTMLMathStyleModel",
      "state": {
       "description_width": "",
       "font_size": null,
       "text_color": null
      }
     },
     "f7fa073ed3ed497a88fbe34c5245a619": {
      "model_module": "@jupyter-widgets/base",
      "model_module_version": "2.0.0",
      "model_name": "LayoutModel",
      "state": {}
     },
     "f85c08612b514d359864b0f7ed07ef53": {
      "model_module": "@jupyter-widgets/controls",
      "model_module_version": "2.0.0",
      "model_name": "HTMLStyleModel",
      "state": {
       "description_width": "",
       "font_size": null,
       "text_color": null
      }
     },
     "fa303fd0b48a4937b84a4359197e5954": {
      "model_module": "@jupyter-widgets/controls",
      "model_module_version": "2.0.0",
      "model_name": "HTMLModel",
      "state": {
       "layout": "IPY_MODEL_6d690ce94dd745948157b529b29d2847",
       "style": "IPY_MODEL_b89744b73aca463b890edaf631ae65cd",
       "value": "job has successfully run"
      }
     },
     "fadb3b270fc24ef39a94e2641713c518": {
      "model_module": "@jupyter-widgets/base",
      "model_module_version": "2.0.0",
      "model_name": "LayoutModel",
      "state": {
       "align_items": "center",
       "display": "flex-inline",
       "grid_area": "right",
       "max_height": "325px",
       "padding": "10px 10px 10px 10px",
       "width": "auto"
      }
     },
     "fb245f268863406987b4587b6dc3ec54": {
      "model_module": "@jupyter-widgets/controls",
      "model_module_version": "2.0.0",
      "model_name": "HTMLModel",
      "state": {
       "layout": "IPY_MODEL_0b3cb200f4ac49ad82feb9bd5f08eb68",
       "style": "IPY_MODEL_8df73344c3584d3d92f8a0fb6bd183b7",
       "value": "<table><style>\ntable {\n    border-collapse: collapse;\n    width: auto;\n}\n\nth, td {\n    text-align: left;\n    padding: 8px;\n}\n\ntr:nth-child(even) {background-color: #f6f6f6;};\n</style><tr><th></th><th>Type</th><th>Gate error</th></tr><tr><td><font style='font-weight:bold'>cx1_3</font></td><td>cx</td><td>0.00982</td></tr><tr><td><font style='font-weight:bold'>cx2_1</font></td><td>cx</td><td>0.00807</td></tr><tr><td><font style='font-weight:bold'>cx1_2</font></td><td>cx</td><td>0.00807</td></tr></table>"
      }
     },
     "fbe528be9c1c4e7e8854653a5c86d705": {
      "model_module": "@jupyter-widgets/base",
      "model_module_version": "2.0.0",
      "model_name": "LayoutModel",
      "state": {
       "width": "95px"
      }
     },
     "fbf1e5d04d1945038de562d5476ddf26": {
      "model_module": "@jupyter-widgets/controls",
      "model_module_version": "2.0.0",
      "model_name": "HTMLStyleModel",
      "state": {
       "description_width": "",
       "font_size": null,
       "text_color": null
      }
     },
     "fcd9bcd91a50481bae8214032e5707d6": {
      "model_module": "@jupyter-widgets/controls",
      "model_module_version": "2.0.0",
      "model_name": "HTMLStyleModel",
      "state": {
       "description_width": "",
       "font_size": null,
       "text_color": null
      }
     }
    },
    "version_major": 2,
    "version_minor": 0
   }
  }
 },
 "nbformat": 4,
 "nbformat_minor": 5
}
